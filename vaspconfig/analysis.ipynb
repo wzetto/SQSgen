{
 "cells": [
  {
   "cell_type": "code",
   "execution_count": 1,
   "id": "bf2761d8",
   "metadata": {},
   "outputs": [],
   "source": [
    "import numpy as np\n",
    "import re\n",
    "from os.path import join, relpath\n",
    "import pandas as pd\n",
    "from openpyxl import load_workbook\n",
    "import math\n",
    "\n",
    "#csv_file = df = pd.read_csv('C:/Users/Matsumoto/OneDrive - Kyoto University/Project/MSAD/msad_crconi.csv',\n",
    "                            #encoding = 'UTF-8')\n",
    "#output_path = 'C:/Users/Matsumoto/OneDrive - Kyoto University/Project/MSAD/msad_crconi.csv'\n",
    "split_a = -1\n",
    "split_b = -4\n",
    "file = r'/home/wang/MSAD/OUTPUTS/MSAD_1.xlsx'\n",
    "\n",
    "def read(incar_dir):\n",
    "    with open(incar_dir) as f:\n",
    "        input_strip = [s.strip() for s in f.readlines()]\n",
    "    return input_strip\n",
    "\n",
    "def get_coor(input_dir, tline = 8):\n",
    "    with open(input_dir) as f:\n",
    "        input_strip = [s.strip() for s in f.readlines()]\n",
    "    \n",
    "    def trans2list(i):\n",
    "        s = ''.join(input_strip[i])\n",
    "        strip = s.split()\n",
    "        strip = [float(x) for x in strip[:3]]\n",
    "        return strip\n",
    "\n",
    "    s = ''.join(input_strip[6])\n",
    "    strip_6 = s.split()\n",
    "    strip_6 = [float(x) for x in strip_6]\n",
    "    li_sum = int(sum(strip_6))\n",
    "    split_pattern = '[/\\\\\\]'\n",
    "    type_dir = re.split(split_pattern, input_dir)[-1]\n",
    "    print(f'Num of atoms in {type_dir}: {li_sum}')\n",
    "\n",
    "    input_coor = []\n",
    "\n",
    "    for i in range(tline, tline + li_sum):\n",
    "        strip = trans2list(i)\n",
    "        input_coor += strip\n",
    "\n",
    "    input_coor = np.array(input_coor).reshape(li_sum, 3)\n",
    "\n",
    "    assert len(input_coor) == li_sum\n",
    "\n",
    "    return li_sum, strip_6, input_coor\n",
    "\n",
    "def msad_ana(cont_dir, pos_dir, osz_dir, lattice_param, cell_num):\n",
    "    param = {}\n",
    "    lattice_param = lattice_param * cell_num\n",
    "\n",
    "    li_sum_cont, strip_cont, cont_coor = get_coor(cont_dir)\n",
    "    li_sum_pos, strip_pos, pos_coor = get_coor(pos_dir)\n",
    "    print(f'Num of Cr, Co, Ni: {strip_pos}')\n",
    "    param['Total_num'] = li_sum_pos\n",
    "    param['CrCoNi'] = strip_pos\n",
    "\n",
    "    cont_coor = cont_coor * lattice_param #Lattice parameter * cell units\n",
    "    pos_coor = pos_coor * lattice_param\n",
    "    divide = 10000 / li_sum_pos\n",
    "    cr_num, co_num, ni_num = int(strip_pos[0]), int(strip_pos[1]), int(strip_pos[2])\n",
    "    divide_cr, divide_co, divide_ni = 10000 / cr_num, 10000 / co_num, 10000 / ni_num, \n",
    "\n",
    "    msad = np.sum(np.power((cont_coor - pos_coor), 2)) * divide\n",
    "    msad_cr = np.sum(np.power(cont_coor[:cr_num] - pos_coor[:cr_num], 2)) * divide_cr\n",
    "    msad_co = np.sum(np.power(cont_coor[cr_num:cr_num+co_num] - pos_coor[cr_num:cr_num+co_num], 2)) * divide_co\n",
    "    msad_ni = np.sum(np.power(cont_coor[cr_num+co_num:] - pos_coor[cr_num+co_num:], 2)) * divide_ni\n",
    "\n",
    "    param['MSAD'] = round(msad,4)\n",
    "    param['cr_msad'] = round(msad_cr,4)\n",
    "    param['co_msad'] = round(msad_co,4)\n",
    "    param['ni_msad'] = round(msad_ni,4)\n",
    "    \n",
    "    print('MSAD value: ' + str(round(msad,4)) + ' pm^2')\n",
    "    print(f'MSAD for Cr: {round(msad_cr,4)} pm^2\\nMSAD for Co: {round(msad_co,4)} pm^2\\nMSAD for Ni: {round(msad_ni,4)} pm^2\\n')\n",
    "    \n",
    "    oszicar = read(osz_dir)[split_a]\n",
    "    e_ground = ''.join(oszicar).split()[split_b]\n",
    "    print(e_ground)\n",
    "    \n",
    "    return param\n",
    "\n",
    "def msad_ana_bi(cont_dir, pos_dir, osz_dir, lattice_param, cell_num):\n",
    "    param = {}\n",
    "    lattice_param = lattice_param * cell_num\n",
    "\n",
    "    li_sum_cont, strip_cont, cont_coor = get_coor(cont_dir)\n",
    "    li_sum_pos, strip_pos, pos_coor = get_coor(pos_dir)\n",
    "    print(f'Num of A, B: {strip_pos}')\n",
    "    param['Total_num'] = li_sum_pos\n",
    "    param['AB'] = strip_pos\n",
    "\n",
    "    cont_coor = cont_coor * lattice_param #Lattice parameter * cell units\n",
    "    pos_coor = pos_coor * lattice_param\n",
    "    divide = 10000 / li_sum_pos\n",
    "    cr_num, co_num = int(strip_pos[0]), int(strip_pos[1])\n",
    "    divide_cr, divide_co = 10000 / cr_num, 10000 / co_num\n",
    "\n",
    "    msad = np.sum(np.power((cont_coor - pos_coor), 2)) * divide\n",
    "    msad_cr = np.sum(np.power(cont_coor[:cr_num] - pos_coor[:cr_num], 2)) * divide_cr\n",
    "    msad_co = np.sum(np.power(cont_coor[cr_num:cr_num+co_num] - pos_coor[cr_num:cr_num+co_num], 2)) * divide_co\n",
    "\n",
    "    param['MSAD'] = round(msad,4)\n",
    "    param['cr_msad'] = round(msad_cr,4)\n",
    "    param['co_msad'] = round(msad_co,4)\n",
    "    \n",
    "    print('MSAD value: ' + str(round(msad,4)) + ' pm^2')\n",
    "    print(f'MSAD for A: {round(msad_cr,4)} pm^2\\nMSAD for B: {round(msad_co,4)}')\n",
    "    \n",
    "    oszicar = read(osz_dir)[split_a]\n",
    "    e_ground = ''.join(oszicar).split()[split_b]\n",
    "    print(e_ground)\n",
    "    \n",
    "    return param\n",
    "\n",
    "def msad_ana_qua(cont_dir, pos_dir, osz_dir, lattice_param, cell_num):\n",
    "    param = {}\n",
    "    lattice_param = lattice_param * cell_num\n",
    "\n",
    "    li_sum_cont, strip_cont, cont_coor = get_coor(cont_dir)\n",
    "    li_sum_pos, strip_pos, pos_coor = get_coor(pos_dir)\n",
    "    print(f'Num of Cr, Mn, Co, Ni: {strip_pos}')\n",
    "    param['Total_num'] = li_sum_pos\n",
    "    param['CrMnCoNi'] = strip_pos\n",
    "\n",
    "    cont_coor = cont_coor * lattice_param #Lattice parameter * cell units\n",
    "    pos_coor = pos_coor * lattice_param\n",
    "    divide = 10000 / li_sum_pos\n",
    "    cr_num, mn_num, co_num, ni_num = int(strip_pos[0]), int(strip_pos[1]), int(strip_pos[2]), int(strip_pos[3])\n",
    "    divide_cr, divide_mn, divide_co, divide_ni = 10000 / cr_num, 10000 / mn_num, 10000 / co_num, 10000 / ni_num, \n",
    "\n",
    "    msad = np.sum(np.power((cont_coor - pos_coor), 2)) * divide\n",
    "    msad_cr = np.sum(np.power(cont_coor[:cr_num] - pos_coor[:cr_num], 2)) * divide_cr\n",
    "    msad_mn = np.sum(np.power(cont_coor[cr_num:cr_num+mn_num] - pos_coor[cr_num:cr_num+mn_num], 2)) *divide_mn\n",
    "    msad_co = np.sum(np.power(cont_coor[cr_num+mn_num:cr_num+mn_num+co_num] \n",
    "                              - pos_coor[cr_num+mn_num:cr_num+mn_num+co_num], 2)) * divide_co\n",
    "    msad_ni = np.sum(np.power(cont_coor[cr_num+mn_num+co_num:] - pos_coor[cr_num+mn_num+co_num:], 2)) * divide_ni\n",
    "\n",
    "    param['MSAD'] = round(msad,4)\n",
    "    param['cr_msad'] = round(msad_cr, 4)\n",
    "    param['mn_msad'] = round(msad_mn, 4)\n",
    "    param['co_msad'] = round(msad_co, 4)\n",
    "    param['ni_msad'] = round(msad_ni, 4)\n",
    "    \n",
    "    print('MSAD value: ' + str(round(msad, 4)) + ' pm^2')\n",
    "    print(f'MSAD for Cr: {round(msad_cr, 4)} pm^2\\nMSAD for Mn: {round(msad_mn,4)} pm^2\\nMSAD for Co: {round(msad_co,4)} pm^2\\nMSAD for Ni: {round(msad_ni,4)} pm^2\\n')\n",
    "    \n",
    "    oszicar = read(osz_dir)[split_a]\n",
    "    e_ground = ''.join(oszicar).split()[split_b]\n",
    "    print(e_ground)\n",
    "    \n",
    "    return param\n",
    "\n",
    "def energy_ana(pos_dir, osz_dir, tline=8):\n",
    "    li_sum_pos, strip_pos, pos_coor = get_coor(pos_dir,tline)\n",
    "    oszicar = read(osz_dir)[split_a]\n",
    "    e_0 = ''.join(oszicar).split()[-4]\n",
    "    f = ''.join(oszicar).split()[-6]\n",
    "    print(f'E0: {e_0}')\n",
    "    print(f'F: {f}')\n",
    "    print(f'total num: {li_sum_pos}')\n",
    "    return e_0, f\n",
    "\n",
    "pattern_compare = '[ /=/ ]'\n",
    "def split_str(inputlist):\n",
    "    para = re.split(pattern_compare, inputlist)[0]\n",
    "    val = re.split(pattern_compare, inputlist)[3]\n",
    "    return para, val\n",
    "\n",
    "def differ_find(file1, file2):\n",
    "    file1 = read(file1)\n",
    "    file2 = read(file2)\n",
    "\n",
    "    dup = [[i, j] for i, j in zip(file1, file2) if split_str(i)[0] == split_str(j)[0]\n",
    "          and split_str(i)[1] != split_str(j)[1]]\n",
    "    \n",
    "    split1 = [split_str(file1[i])[0] for i in range(len(file1))]\n",
    "    split2 = [split_str(file2[i])[0] for i in range(len(file2))]\n",
    "    differ1 = [file1[split1.index(i)] for i in split1 if i not in split2]\n",
    "    differ2 = [file2[split2.index(i)] for i in split2 if i not in split1]\n",
    "    \n",
    "    print(f'Value changing: {dup}\\nUnique param in file1:{differ1}\\nUnique param in file2: {differ2}')\n",
    "    return dup, differ1, differ2"
   ]
  },
  {
   "cell_type": "code",
   "execution_count": 31,
   "id": "d6564744",
   "metadata": {},
   "outputs": [
    {
     "ename": "IndexError",
     "evalue": "list index out of range",
     "output_type": "error",
     "traceback": [
      "\u001b[0;31m---------------------------------------------------------------------------\u001b[0m",
      "\u001b[0;31mIndexError\u001b[0m                                Traceback (most recent call last)",
      "\u001b[0;32m<ipython-input-31-1d64fac80d28>\u001b[0m in \u001b[0;36m<module>\u001b[0;34m\u001b[0m\n\u001b[1;32m      3\u001b[0m \u001b[0mincar_dir\u001b[0m \u001b[0;34m=\u001b[0m \u001b[0;34m'/home/wang/MSAD/OUTPUTS/Co/Co_3_3.5447_3_try1/INCAR'\u001b[0m\u001b[0;34m\u001b[0m\u001b[0;34m\u001b[0m\u001b[0m\n\u001b[1;32m      4\u001b[0m \u001b[0moszicar_dir\u001b[0m \u001b[0;34m=\u001b[0m \u001b[0;34m'/home/wang/MSAD/OUTPUTS/Co/Co_3_3.5447_3_try1/OSZICAR'\u001b[0m\u001b[0;34m\u001b[0m\u001b[0;34m\u001b[0m\u001b[0m\n\u001b[0;32m----> 5\u001b[0;31m \u001b[0moszicar\u001b[0m \u001b[0;34m=\u001b[0m \u001b[0mread\u001b[0m\u001b[0;34m(\u001b[0m\u001b[0moszicar_dir\u001b[0m\u001b[0;34m)\u001b[0m\u001b[0;34m[\u001b[0m\u001b[0msplit_a\u001b[0m\u001b[0;34m]\u001b[0m\u001b[0;34m\u001b[0m\u001b[0;34m\u001b[0m\u001b[0m\n\u001b[0m\u001b[1;32m      6\u001b[0m \u001b[0me_ground\u001b[0m \u001b[0;34m=\u001b[0m \u001b[0;34m''\u001b[0m\u001b[0;34m.\u001b[0m\u001b[0mjoin\u001b[0m\u001b[0;34m(\u001b[0m\u001b[0moszicar\u001b[0m\u001b[0;34m)\u001b[0m\u001b[0;34m.\u001b[0m\u001b[0msplit\u001b[0m\u001b[0;34m(\u001b[0m\u001b[0;34m)\u001b[0m\u001b[0;34m[\u001b[0m\u001b[0msplit_b\u001b[0m\u001b[0;34m]\u001b[0m\u001b[0;34m\u001b[0m\u001b[0;34m\u001b[0m\u001b[0m\n\u001b[1;32m      7\u001b[0m \u001b[0;34m\u001b[0m\u001b[0m\n",
      "\u001b[0;31mIndexError\u001b[0m: list index out of range"
     ]
    }
   ],
   "source": [
    "cont_dir = '/home/wang/MSAD/OUTPUTS/Co/Co_3_3.5447_3_try1/CONTCAR'\n",
    "pos_dir = '/home/wang/MSAD/OUTPUTS/Co/Co_3_3.5447_3_try1/POSCAR'\n",
    "incar_dir = '/home/wang/MSAD/OUTPUTS/Co/Co_3_3.5447_3_try1/INCAR'\n",
    "oszicar_dir = '/home/wang/MSAD/OUTPUTS/Co/Co_3_3.5447_3_try1/OSZICAR'\n",
    "oszicar = read(oszicar_dir)[split_a]\n",
    "e_ground = ''.join(oszicar).split()[split_b]\n",
    "\n",
    "incar = read(incar_dir)\n",
    "param_try = msad_ana(cont_dir, pos_dir, oszicar_dir, 3.5447, 3)\n",
    "#param_try['E_ground'] = e_ground\n",
    "comprehen_incar = incar.append(param_try)"
   ]
  },
  {
   "cell_type": "code",
   "execution_count": 33,
   "id": "ce41f920",
   "metadata": {
    "scrolled": false
   },
   "outputs": [
    {
     "ename": "IndexError",
     "evalue": "list index out of range",
     "output_type": "error",
     "traceback": [
      "\u001b[0;31m---------------------------------------------------------------------------\u001b[0m",
      "\u001b[0;31mIndexError\u001b[0m                                Traceback (most recent call last)",
      "\u001b[0;32m<ipython-input-33-900b941d76d6>\u001b[0m in \u001b[0;36m<module>\u001b[0;34m\u001b[0m\n\u001b[1;32m      6\u001b[0m     \u001b[0mincar_dir\u001b[0m \u001b[0;34m=\u001b[0m \u001b[0;34mf'/home/wang/MSAD/OUTPUTS/Co/Co_3_3.5447_3_try{i}/INCAR'\u001b[0m\u001b[0;34m\u001b[0m\u001b[0;34m\u001b[0m\u001b[0m\n\u001b[1;32m      7\u001b[0m     \u001b[0moszicar_dir\u001b[0m \u001b[0;34m=\u001b[0m \u001b[0;34mf'/home/wang/MSAD/OUTPUTS/Co/Co_3_3.5447_3_try{i}/OSZICAR'\u001b[0m\u001b[0;34m\u001b[0m\u001b[0;34m\u001b[0m\u001b[0m\n\u001b[0;32m----> 8\u001b[0;31m     \u001b[0moszicar\u001b[0m \u001b[0;34m=\u001b[0m \u001b[0mread\u001b[0m\u001b[0;34m(\u001b[0m\u001b[0moszicar_dir\u001b[0m\u001b[0;34m)\u001b[0m\u001b[0;34m[\u001b[0m\u001b[0msplit_a\u001b[0m\u001b[0;34m]\u001b[0m\u001b[0;34m\u001b[0m\u001b[0;34m\u001b[0m\u001b[0m\n\u001b[0m\u001b[1;32m      9\u001b[0m     \u001b[0me_ground\u001b[0m\u001b[0;34m=\u001b[0m \u001b[0;34m''\u001b[0m\u001b[0;34m.\u001b[0m\u001b[0mjoin\u001b[0m\u001b[0;34m(\u001b[0m\u001b[0moszicar\u001b[0m\u001b[0;34m)\u001b[0m\u001b[0;34m.\u001b[0m\u001b[0msplit\u001b[0m\u001b[0;34m(\u001b[0m\u001b[0;34m)\u001b[0m\u001b[0;34m[\u001b[0m\u001b[0msplit_b\u001b[0m\u001b[0;34m]\u001b[0m\u001b[0;34m\u001b[0m\u001b[0;34m\u001b[0m\u001b[0m\n\u001b[1;32m     10\u001b[0m \u001b[0;34m\u001b[0m\u001b[0m\n",
      "\u001b[0;31mIndexError\u001b[0m: list index out of range"
     ]
    }
   ],
   "source": [
    "#precise structure\n",
    "\n",
    "for i in range():      \n",
    "    cont_dir = f'/home/wang/MSAD/OUTPUTS/Co/Co_3_3.5447_3_try{i}/CONTCAR'\n",
    "    pos_dir = f'/home/wang/MSAD/OUTPUTS/Co/Co_3_3.5447_3_try{i}/POSCAR'\n",
    "    incar_dir = f'/home/wang/MSAD/OUTPUTS/Co/Co_3_3.5447_3_try{i}/INCAR'\n",
    "    oszicar_dir = f'/home/wang/MSAD/OUTPUTS/Co/Co_3_3.5447_3_try{i}/OSZICAR'\n",
    "    oszicar = read(oszicar_dir)[split_a]\n",
    "    e_ground= ''.join(oszicar).split()[split_b]\n",
    "\n",
    "    incar = read(incar_dir)\n",
    "    param_try = msad_ana_bi(cont_dir, pos_dir, oszicar_dir, 3.5447, 3)\n",
    "    #param_try['E_ground'] = e_ground\n",
    "    comprehen_incar = incar.append(param_try)"
   ]
  },
  {
   "cell_type": "code",
   "execution_count": 56,
   "id": "8a6bbe8f",
   "metadata": {
    "scrolled": false
   },
   "outputs": [
    {
     "name": "stdout",
     "output_type": "stream",
     "text": [
      "Num of atoms in CONTCAR: 108\n",
      "Num of atoms in POSCAR: 108\n",
      "Num of Cr, Co, Ni: [49.0, 21.0, 38.0]\n",
      "MSAD value: 52.5006 pm^2\n",
      "MSAD for Cr: 87.8552 pm^2\n",
      "MSAD for Co: 31.5414 pm^2\n",
      "MSAD for Ni: 18.4947 pm^2\n",
      "\n",
      "-.82283833E+03\n",
      "Num of atoms in CONTCAR: 108\n",
      "Num of atoms in POSCAR: 108\n",
      "Num of Cr, Co, Ni: [49.0, 21.0, 38.0]\n",
      "MSAD value: 75.9467 pm^2\n",
      "MSAD for Cr: 136.6412 pm^2\n",
      "MSAD for Co: 29.2125 pm^2\n",
      "MSAD for Ni: 23.5095 pm^2\n",
      "\n",
      "-.82203812E+03\n",
      "Num of atoms in CONTCAR: 108\n",
      "Num of atoms in POSCAR: 108\n",
      "Num of Cr, Co, Ni: [49.0, 21.0, 38.0]\n",
      "MSAD value: 63.132 pm^2\n",
      "MSAD for Cr: 107.8657 pm^2\n",
      "MSAD for Co: 28.3383 pm^2\n",
      "MSAD for Ni: 24.6771 pm^2\n",
      "\n",
      "-.82207759E+03\n",
      "Num of atoms in CONTCAR: 108\n",
      "Num of atoms in POSCAR: 108\n",
      "Num of Cr, Co, Ni: [48.0, 22.0, 38.0]\n",
      "MSAD value: 44.6677 pm^2\n",
      "MSAD for Cr: 76.0207 pm^2\n",
      "MSAD for Co: 23.1394 pm^2\n",
      "MSAD for Ni: 17.5277 pm^2\n",
      "\n",
      "-0.67137E-04\n"
     ]
    },
    {
     "ename": "FileNotFoundError",
     "evalue": "[Errno 2] No such file or directory: '/home/wang/MSAD/OUTPUTS/Cr45Co20Ni35/Cr45Co20Ni35_3_3.535_3_try104/OSZICAR'",
     "output_type": "error",
     "traceback": [
      "\u001b[0;31m---------------------------------------------------------------------------\u001b[0m",
      "\u001b[0;31mFileNotFoundError\u001b[0m                         Traceback (most recent call last)",
      "\u001b[0;32m<ipython-input-56-e2e7caa2aae4>\u001b[0m in \u001b[0;36m<module>\u001b[0;34m\u001b[0m\n\u001b[1;32m      6\u001b[0m     \u001b[0mincar_dir\u001b[0m \u001b[0;34m=\u001b[0m \u001b[0;34mf'/home/wang/MSAD/OUTPUTS/Cr45Co20Ni35/Cr45Co20Ni35_3_3.535_3_try{i}/INCAR'\u001b[0m\u001b[0;34m\u001b[0m\u001b[0;34m\u001b[0m\u001b[0m\n\u001b[1;32m      7\u001b[0m     \u001b[0moszicar_dir\u001b[0m \u001b[0;34m=\u001b[0m \u001b[0;34mf'/home/wang/MSAD/OUTPUTS/Cr45Co20Ni35/Cr45Co20Ni35_3_3.535_3_try{i}/OSZICAR'\u001b[0m\u001b[0;34m\u001b[0m\u001b[0;34m\u001b[0m\u001b[0m\n\u001b[0;32m----> 8\u001b[0;31m     \u001b[0moszicar\u001b[0m \u001b[0;34m=\u001b[0m \u001b[0mread\u001b[0m\u001b[0;34m(\u001b[0m\u001b[0moszicar_dir\u001b[0m\u001b[0;34m)\u001b[0m\u001b[0;34m[\u001b[0m\u001b[0msplit_a\u001b[0m\u001b[0;34m]\u001b[0m\u001b[0;34m\u001b[0m\u001b[0;34m\u001b[0m\u001b[0m\n\u001b[0m\u001b[1;32m      9\u001b[0m     \u001b[0me_ground\u001b[0m \u001b[0;34m=\u001b[0m \u001b[0;34m''\u001b[0m\u001b[0;34m.\u001b[0m\u001b[0mjoin\u001b[0m\u001b[0;34m(\u001b[0m\u001b[0moszicar\u001b[0m\u001b[0;34m)\u001b[0m\u001b[0;34m.\u001b[0m\u001b[0msplit\u001b[0m\u001b[0;34m(\u001b[0m\u001b[0;34m)\u001b[0m\u001b[0;34m[\u001b[0m\u001b[0msplit_b\u001b[0m\u001b[0;34m]\u001b[0m\u001b[0;34m\u001b[0m\u001b[0;34m\u001b[0m\u001b[0m\n\u001b[1;32m     10\u001b[0m \u001b[0;34m\u001b[0m\u001b[0m\n",
      "\u001b[0;32m<ipython-input-1-2aa07b8facf6>\u001b[0m in \u001b[0;36mread\u001b[0;34m(incar_dir)\u001b[0m\n\u001b[1;32m     14\u001b[0m \u001b[0;34m\u001b[0m\u001b[0m\n\u001b[1;32m     15\u001b[0m \u001b[0;32mdef\u001b[0m \u001b[0mread\u001b[0m\u001b[0;34m(\u001b[0m\u001b[0mincar_dir\u001b[0m\u001b[0;34m)\u001b[0m\u001b[0;34m:\u001b[0m\u001b[0;34m\u001b[0m\u001b[0;34m\u001b[0m\u001b[0m\n\u001b[0;32m---> 16\u001b[0;31m     \u001b[0;32mwith\u001b[0m \u001b[0mopen\u001b[0m\u001b[0;34m(\u001b[0m\u001b[0mincar_dir\u001b[0m\u001b[0;34m)\u001b[0m \u001b[0;32mas\u001b[0m \u001b[0mf\u001b[0m\u001b[0;34m:\u001b[0m\u001b[0;34m\u001b[0m\u001b[0;34m\u001b[0m\u001b[0m\n\u001b[0m\u001b[1;32m     17\u001b[0m         \u001b[0minput_strip\u001b[0m \u001b[0;34m=\u001b[0m \u001b[0;34m[\u001b[0m\u001b[0ms\u001b[0m\u001b[0;34m.\u001b[0m\u001b[0mstrip\u001b[0m\u001b[0;34m(\u001b[0m\u001b[0;34m)\u001b[0m \u001b[0;32mfor\u001b[0m \u001b[0ms\u001b[0m \u001b[0;32min\u001b[0m \u001b[0mf\u001b[0m\u001b[0;34m.\u001b[0m\u001b[0mreadlines\u001b[0m\u001b[0;34m(\u001b[0m\u001b[0;34m)\u001b[0m\u001b[0;34m]\u001b[0m\u001b[0;34m\u001b[0m\u001b[0;34m\u001b[0m\u001b[0m\n\u001b[1;32m     18\u001b[0m     \u001b[0;32mreturn\u001b[0m \u001b[0minput_strip\u001b[0m\u001b[0;34m\u001b[0m\u001b[0;34m\u001b[0m\u001b[0m\n",
      "\u001b[0;31mFileNotFoundError\u001b[0m: [Errno 2] No such file or directory: '/home/wang/MSAD/OUTPUTS/Cr45Co20Ni35/Cr45Co20Ni35_3_3.535_3_try104/OSZICAR'"
     ]
    }
   ],
   "source": [
    "#rough structure\n",
    "\n",
    "for i in range(100, 114):      \n",
    "    cont_dir = f'/home/wang/MSAD/OUTPUTS/Cr45Co20Ni35/Cr45Co20Ni35_3_3.535_3_try{i}/CONTCAR'\n",
    "    pos_dir = f'/home/wang/MSAD/OUTPUTS/Cr45Co20Ni35/Cr45Co20Ni35_3_3.535_3_try{i}/POSCAR'\n",
    "    incar_dir = f'/home/wang/MSAD/OUTPUTS/Cr45Co20Ni35/Cr45Co20Ni35_3_3.535_3_try{i}/INCAR'\n",
    "    oszicar_dir = f'/home/wang/MSAD/OUTPUTS/Cr45Co20Ni35/Cr45Co20Ni35_3_3.535_3_try{i}/OSZICAR'\n",
    "    oszicar = read(oszicar_dir)[split_a]\n",
    "    e_ground = ''.join(oszicar).split()[split_b]\n",
    "\n",
    "    incar = read(incar_dir)\n",
    "    param_try = msad_ana(cont_dir, pos_dir, oszicar_dir, 3.535, 3)\n",
    "    #param_try['E_ground'] = e_ground\n",
    "    comprehen_incar = incar.append(param_try)"
   ]
  },
  {
   "cell_type": "code",
   "execution_count": null,
   "id": "dd093035",
   "metadata": {
    "scrolled": false
   },
   "outputs": [],
   "source": [
    "#precise structure Cr20Mn30CoNi\n",
    "\n",
    "for i in range(1,2):      \n",
    "    cont_dir = f'/home/wang/MSAD/OUTPUTS/Cr20Mn30CoNi/Cr20Mn30CoNi_3_3.508_4_try{i}/CONTCAR'\n",
    "    pos_dir = f'/home/wang/MSAD/OUTPUTS/Cr20Mn30CoNi/Cr20Mn30CoNi_3_3.508_4_try{i}/POSCAR'\n",
    "    incar_dir = f'/home/wang/MSAD/OUTPUTS/Cr20Mn30CoNi/Cr20Mn30CoNi_3_3.508_4_try{i}/INCAR'\n",
    "    oszicar_dir = f'/home/wang/MSAD/OUTPUTS/Cr20Mn30CoNi/Cr20Mn30CoNi_3_3.508_4_try{i}/OSZICAR'\n",
    "    oszicar = read(oszicar_dir)[split_a]\n",
    "    e_ground = ''.join(oszicar).split()[split_b]\n",
    "\n",
    "    incar = read(incar_dir)\n",
    "    param_try = msad_ana_qua(cont_dir, pos_dir, oszicar_dir, 3.508, 4)\n",
    "    #param_try['E_ground'] = e_ground\n",
    "    comprehen_incar = incar.append(param_try)"
   ]
  },
  {
   "cell_type": "code",
   "execution_count": 17,
   "id": "919950d3",
   "metadata": {},
   "outputs": [
    {
     "name": "stdout",
     "output_type": "stream",
     "text": [
      "Num of atoms in POSCAR: 216\n",
      "E0: -.14875150E+04\n",
      "F: -.14875306E+04\n",
      "total num: 216\n",
      "Num of atoms in POSCAR: 216\n",
      "E0: -.14875035E+04\n",
      "F: -.14875218E+04\n",
      "total num: 216\n"
     ]
    }
   ],
   "source": [
    "#SFE energy\n",
    "i = 6\n",
    "osz_dir = f'/home/wang/SFE/outputs/Cr20Co60Ni20/Cr20Co60Ni20_3.486_3_raw_try{i}/OSZICAR'\n",
    "pos_dir = f'/home/wang/SFE/outputs/Cr20Co60Ni20/Cr20Co60Ni20_3.486_3_raw_try{i}/POSCAR'\n",
    "osz_dir_stack = f'/home/wang/SFE/outputs/Cr20Co60Ni20/Cr20Co60Ni20_3.486_3_stack_try{i}/OSZICAR'\n",
    "pos_dir_stack = f'/home/wang/SFE/outputs/Cr20Co60Ni20/Cr20Co60Ni20_3.486_3_stack_try{i}/POSCAR'\n",
    "\n",
    "e0_raw, f_raw = energy_ana(pos_dir, osz_dir, 9)\n",
    "e0_stack, f_stack = energy_ana(pos_dir_stack, osz_dir_stack, 9)"
   ]
  },
  {
   "cell_type": "code",
   "execution_count": 50,
   "id": "7f5d0026",
   "metadata": {},
   "outputs": [
    {
     "name": "stdout",
     "output_type": "stream",
     "text": [
      "Num of atoms in POSCAR: 216\n",
      "E0: -.15909271E+04\n",
      "F: -.15909366E+04\n",
      "total num: 216\n",
      "Num of atoms in POSCAR: 216\n",
      "E0: -.15914255E+04\n",
      "F: -.15914293E+04\n",
      "total num: 216\n"
     ]
    }
   ],
   "source": [
    "#SFE energy\n",
    "i = 3\n",
    "osz_dir = f'/home/wang/SFE/outputs/Cr40Co40Ni20/Cr40Co40Ni20_3.512_3_raw_try{i}/OSZICAR'\n",
    "pos_dir = f'/home/wang/SFE/outputs/Cr40Co40Ni20/Cr40Co40Ni20_3.512_3_raw_try{i}/POSCAR'\n",
    "osz_dir_stack = f'/home/wang/SFE/outputs/Cr40Co40Ni20/Cr40Co40Ni20_3.512_3_stack_try{i}/OSZICAR'\n",
    "pos_dir_stack = f'/home/wang/SFE/outputs/Cr40Co40Ni20/Cr40Co40Ni20_3.512_3_stack_try{i}/POSCAR'\n",
    "\n",
    "e0_raw, f_raw = energy_ana(pos_dir, osz_dir, 9)\n",
    "e0_stack, f_stack = energy_ana(pos_dir_stack, osz_dir_stack, 9)"
   ]
  },
  {
   "cell_type": "code",
   "execution_count": 42,
   "id": "df6e4062",
   "metadata": {},
   "outputs": [
    {
     "name": "stdout",
     "output_type": "stream",
     "text": [
      "Num of atoms in POSCAR: 216\n",
      "E0: -.15440953E+04\n",
      "F: -.15440939E+04\n",
      "total num: 216\n",
      "Num of atoms in POSCAR: 216\n",
      "E0: -.15447896E+04\n",
      "F: -.15447949E+04\n",
      "total num: 216\n"
     ]
    }
   ],
   "source": [
    "#SFE energy\n",
    "i = 5\n",
    "osz_dir = f'/home/wang/SFE/outputs/Cr45Co5Ni50/Cr45Co5Ni50_3.541_3_raw_try{i}/OSZICAR'\n",
    "pos_dir = f'/home/wang/SFE/outputs/Cr45Co5Ni50/Cr45Co5Ni50_3.541_3_raw_try{i}/POSCAR'\n",
    "osz_dir_stack = f'/home/wang/SFE/outputs/Cr45Co5Ni50/Cr45Co5Ni50_3.541_3_stack_try{i}/OSZICAR'\n",
    "pos_dir_stack = f'/home/wang/SFE/outputs/Cr45Co5Ni50/Cr45Co5Ni50_3.541_3_stack_try{i}/POSCAR'\n",
    "\n",
    "e0_raw, f_raw = energy_ana(pos_dir, osz_dir, 9)\n",
    "e0_stack, f_stack = energy_ana(pos_dir_stack, osz_dir_stack, 9)"
   ]
  },
  {
   "cell_type": "code",
   "execution_count": 54,
   "id": "259b5d67",
   "metadata": {
    "scrolled": true
   },
   "outputs": [
    {
     "name": "stdout",
     "output_type": "stream",
     "text": [
      "Num of atoms in POSCAR: 216\n",
      "E0: -.14678604E+04\n",
      "F: -.14678618E+04\n",
      "total num: 216\n",
      "Num of atoms in POSCAR: 216\n",
      "E0: -.14681046E+04\n",
      "F: -.14681045E+04\n",
      "total num: 216\n"
     ]
    }
   ],
   "source": [
    "#SFE energy\n",
    "i = 3\n",
    "osz_dir = f'/home/wang/SFE/outputs/Cr30Co20Ni50/Cr30Co20Ni50_3.523_3_raw_try{i}/OSZICAR'\n",
    "pos_dir = f'/home/wang/SFE/outputs/Cr30Co20Ni50/Cr30Co20Ni50_3.523_3_raw_try{i}/POSCAR'\n",
    "osz_dir_stack = f'/home/wang/SFE/outputs/Cr30Co20Ni50/Cr30Co20Ni50_3.523_3_stack_try{i}/OSZICAR'\n",
    "pos_dir_stack = f'/home/wang/SFE/outputs/Cr30Co20Ni50/Cr30Co20Ni50_3.523_3_stack_try{i}/POSCAR'\n",
    "\n",
    "e0_raw, f_raw = energy_ana(pos_dir, osz_dir, 9)\n",
    "e0_stack, f_stack = energy_ana(pos_dir_stack, osz_dir_stack, 9)"
   ]
  },
  {
   "cell_type": "code",
   "execution_count": 55,
   "id": "6d8eb4dc",
   "metadata": {},
   "outputs": [
    {
     "data": {
      "text/plain": [
       "-2.9119928946126694"
      ]
     },
     "execution_count": 55,
     "metadata": {},
     "output_type": "execute_result"
    }
   ],
   "source": [
    "lattice_parameter = 3.523\n",
    "milijoule = (float(e0_stack)-float(e0_raw))/(6.241506363e15)\n",
    "stack_A = 25*math.sqrt(3)/4*(lattice_parameter**2)*(10e-20)\n",
    "milijoule/stack_A"
   ]
  },
  {
   "cell_type": "code",
   "execution_count": 56,
   "id": "fc293f16",
   "metadata": {},
   "outputs": [
    {
     "name": "stdout",
     "output_type": "stream",
     "text": [
      "Num of atoms in POSCAR: 144\n",
      "E0: -.10357056E+04\n",
      "F: -.10357054E+04\n",
      "total num: 144\n"
     ]
    }
   ],
   "source": [
    "#SFE energy\n",
    "i = 7\n",
    "\n",
    "\n",
    "#osz_dir_cr = f'/home/wang/SFE/outputs/CrCoNi/CrCoNi_3.516_3_stack_try{i}/Cr0+/OSZICAR'\n",
    "#osz_dir_co = f'/home/wang/SFE/outputs/CrCoNi/CrCoNi_3.516_3_stack_try{i}/Co0+/OSZICAR'\n",
    "#osz_dir_ni = f'/home/wang/SFE/outputs/CrCoNi/CrCoNi_3.516_3_stack_try{i}/Ni0+/OSZICAR'\n",
    "\n",
    "#pos_dir_cr = f'/home/wang/SFE/outputs/CrCoNi/CrCoNi_3.516_3_stack_try{i}/Cr0+/POSCAR'\n",
    "#pos_dir_co = f'/home/wang/SFE/outputs/CrCoNi/CrCoNi_3.516_3_stack_try{i}/Co0+/POSCAR'\n",
    "#pos_dir_ni = f'/home/wang/SFE/outputs/CrCoNi/CrCoNi_3.516_3_stack_try{i}/Ni0+/POSCAR'\n",
    "\n",
    "e0_stack, f_stack = energy_ana(pos_dir_stack, osz_dir_stack)\n",
    "#energy_ana(pos_dir_cr, osz_dir_cr)\n",
    "#energy_ana(pos_dir_co, osz_dir_co)\n",
    "#energy_ana(pos_dir_ni, osz_dir_ni)"
   ]
  },
  {
   "cell_type": "code",
   "execution_count": 10,
   "id": "7fc42a28",
   "metadata": {},
   "outputs": [
    {
     "name": "stdout",
     "output_type": "stream",
     "text": [
      "Value changing: [['SIGMA = 0.1', 'SIGMA = 0.2']]\n",
      "Unique param in file1:[]\n",
      "Unique param in file2: []\n"
     ]
    }
   ],
   "source": [
    "_,_,_ = differ_find(incar_dir11, incar_dir12)"
   ]
  },
  {
   "cell_type": "code",
   "execution_count": null,
   "id": "c57ddbf8",
   "metadata": {},
   "outputs": [],
   "source": [
    "save_book = load_workbook(file)\n",
    "    writer = pd.ExcelWriter(file, engine='pywin32', mode='a')\n",
    "    writer.book = save_book\n",
    "    \n",
    "    split_pattern = '[/\\\\\\_]'\n",
    "    type_dir = re.split(split_pattern, cont_dir)\n",
    "    lattice_parameter = int(type_dir[-4])/np.power(10, len(list(type_dir[-4]))) + int(type_dir[-5])\n",
    "    sheet_name = type_dir[-6]\n",
    "    \n",
    "    Type = type_dir[-6] + '_' + type_dir[-2]\n",
    "    df = pd.read_excel(file, sheet_name = sheet_name)\n",
    "    df.loc[[int(list(type_dir[-2])[-1])-1],['Type', 'Value(pm2)', 'Ground_state_energy', '(Cr, Co, Ni)', \n",
    "                                            'Lattice_parameter', 'Units_of_cell', \n",
    "                                            'Cr_msad', 'Co_msad', 'Ni_msad']\n",
    "    ]=[Type, msad, e_ground, f'({cr_num}, {co_num}, {ni_num})',\n",
    "       lattice_parameter, type_dir[-3], msad_cr, msad_co, msad_ni]\n",
    "    df.append(pd.Series(name = int(list(type_dir[-2])[-1])))\n",
    "    \n",
    "    df.to_excel(writer, sheet_name = sheet_name)\n",
    "    writer.save()\n",
    "    writer.close()\n",
    "    print(df)"
   ]
  }
 ],
 "metadata": {
  "kernelspec": {
   "display_name": "Python 3",
   "language": "python",
   "name": "python3"
  },
  "language_info": {
   "codemirror_mode": {
    "name": "ipython",
    "version": 3
   },
   "file_extension": ".py",
   "mimetype": "text/x-python",
   "name": "python",
   "nbconvert_exporter": "python",
   "pygments_lexer": "ipython3",
   "version": "3.8.8"
  }
 },
 "nbformat": 4,
 "nbformat_minor": 5
}
